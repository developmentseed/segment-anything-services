{
 "cells": [
  {
   "cell_type": "markdown",
   "id": "8b71f1cb-d0eb-4fb9-900c-283dfff566f0",
   "metadata": {},
   "source": [
    "Run this after untar"
   ]
  },
  {
   "cell_type": "code",
   "execution_count": null,
   "id": "3e847419-b571-4820-b816-adcb7cc632f5",
   "metadata": {},
   "outputs": [],
   "source": [
    "# # Find directories in reverse order of depth, rename directories\n",
    "# find LR_Landcover HR_Landcover -type d | tac | while IFS= read -r dir\n",
    "# do\n",
    "#     new_dir=\"${dir// /_}\"\n",
    "#     if [ \"$dir\" != \"$new_dir\" ]; then\n",
    "#         mv \"$dir\" \"$new_dir\"\n",
    "#     fi\n",
    "# done\n",
    "\n",
    "# # Find files and rename files\n",
    "# find LR_Landcover HR_Landcover -type f | while IFS= read -r file\n",
    "# do\n",
    "#     new_file=\"${file// /_}\"\n",
    "#     if [ \"$file\" != \"$new_file\" ]; then\n",
    "#         mv \"$file\" \"$new_file\"\n",
    "#     fi\n",
    "# done\n"
   ]
  },
  {
   "cell_type": "code",
   "execution_count": null,
   "id": "a9d82c0d-99cd-4c37-b051-812f9d8a1673",
   "metadata": {},
   "outputs": [],
   "source": [
    "import os\n",
    "import leafmap\n",
    "from samgeo import SamGeo, tms_to_geotiff, get_basemaps\n",
    "import pandas as pd\n",
    "import rasterio\n",
    "import numpy as np\n",
    "\n",
    "out_dir = os.path.join(os.path.expanduser(\"~\"), \"segment-anything-services/model-weights\")\n",
    "checkpoint = os.path.join(out_dir, \"sam_vit_h_4b8939.pth\")\n",
    "\n",
    "sam = SamGeo(\n",
    "    model_type=\"vit_h\",\n",
    "    checkpoint=checkpoint,\n",
    "    sam_kwargs=None,\n",
    ")\n",
    "\n",
    "worldstrat_df = pd.read_csv(\"../data/metadata.csv\")\n",
    "\n",
    "def sample_rows(df):\n",
    "    sampled_df = df.groupby('IPCC Class').apply(lambda x: x.sample(n=5))\n",
    "    sampled_df.reset_index(drop=True, inplace=True)\n",
    "    return sampled_df\n",
    "\n",
    "\n",
    "def add_image_paths(df, band_order=[3,2,1], revisit_number=1):\n",
    "    # Define the path template\n",
    "    path_template = f\"../data/HR_Landcover/{{scene_id}}/{{scene_id}}_rgb.png\"\n",
    "\n",
    "    # Add HR_path column\n",
    "    df['HR_path'] = df['ID'].apply(lambda x: path_template.format(scene_id=x))\n",
    "    \n",
    "    path_template = f\"../data/LR_Landcover/{{scene_id}}/L2A/\"\n",
    "    # Add LR_path column. this contains multiple revisits so it's to the directory instead of a file\n",
    "    df['LR_folder_path'] = df['ID'].apply(lambda x: path_template.format(scene_id=x))\n",
    "    \n",
    "    # Add LR_path column. this contains multiple revisits so it's to the directory instead of a file\n",
    "    path_template = f\"../data/LR_Landcover/{{scene_id}}/L2A/{{scene_id}}-{{revisit_number}}-L2A_data.tiff\"\n",
    "    df['LR_revisit_1'] = df['ID'].apply(lambda x: path_template.format(scene_id=x, revisit_number=revisit_number))\n",
    "\n",
    "    return df"
   ]
  },
  {
   "cell_type": "code",
   "execution_count": null,
   "id": "4938d05f-449a-4cf2-a6fd-cef85af34194",
   "metadata": {},
   "outputs": [],
   "source": [
    "df = sample_rows(worldstrat_df)\n",
    "df = df.rename(columns={\"Unnamed: 0\": \"ID\"})\n",
    "df = add_image_paths(df)\n",
    "df['ID'] = df['ID'].str.replace(' ', '_')\n",
    "df['HR_path'] = df['HR_path'].str.replace(' ', '_')\n",
    "df['LR_folder_path'] = df['LR_folder_path'].str.replace(' ', '_')\n",
    "df['LR_revisit_1'] = df['LR_revisit_1'].str.replace(' ', '_')"
   ]
  },
  {
   "cell_type": "code",
   "execution_count": null,
   "id": "6b53ff75-717d-442a-be51-1f3452dbe265",
   "metadata": {
    "tags": []
   },
   "outputs": [],
   "source": [
    "def convert_tif_dtype(file_path, band_order = [3,2,1]):\n",
    "    # Open the image file\n",
    "    with rasterio.open(file_path) as src:\n",
    "        image = src.read()  # 3D array: (bands, height, width)\n",
    "        meta = src.meta\n",
    "\n",
    "    # If the image data type is float32, convert it to uint8\n",
    "    if image.dtype == np.float32:\n",
    "        image = image[band_order,:,:] # rgb image\n",
    "        meta['count'] = 3\n",
    "        # Scale float32 array to 0-255 and convert to uint8\n",
    "        image = ((image - image.min()) / (image.max() - image.min()) * 255).astype(np.uint8)\n",
    "\n",
    "        # Update the metadata\n",
    "        meta.update(dtype=rasterio.uint8)\n",
    "\n",
    "        # Construct the output file path\n",
    "        file_dir = os.path.dirname(file_path)\n",
    "        file_base = os.path.basename(file_path)\n",
    "        file_name, file_ext = os.path.splitext(file_base)\n",
    "        out_path = os.path.join(file_dir, f\"{file_name}_uint8_bo{'-'.join(map(str, band_order))}{file_ext}\")\n",
    "\n",
    "        # Write the updated image to a new file\n",
    "        with rasterio.open(out_path, 'w', **meta) as dst:\n",
    "            dst.write(image)\n",
    "\n",
    "    return out_path"
   ]
  },
  {
   "cell_type": "code",
   "execution_count": null,
   "id": "be94e3c9-baf1-4ccb-abcf-cd98159f0edb",
   "metadata": {
    "tags": []
   },
   "outputs": [],
   "source": [
    "def convert_dtype_and_add_to_df(df):\n",
    "    # Initialize an empty list to store the output file paths\n",
    "    output_file_paths = []\n",
    "\n",
    "    # Iterate over the DataFrame\n",
    "    for idx, row in df.iterrows():\n",
    "        # Construct the full file path\n",
    "        file_path = row['LR_revisit_1']\n",
    "\n",
    "        # Check if the file is a tiff file\n",
    "        if file_path.endswith('.tiff') and \"L2A_data\" in file_path:\n",
    "            # Convert the tiff file if needed and get the output file path\n",
    "            output_file_path = convert_tif_dtype(file_path)\n",
    "\n",
    "            # Append the output file path to the list\n",
    "            output_file_paths.append(output_file_path)\n",
    "        else:\n",
    "            # If the file is not a tiff file or does not contain \"L2A_data\", append a None\n",
    "            output_file_paths.append(None)\n",
    "\n",
    "    # Add the output file paths as a new column in the DataFrame\n",
    "    df['LR_output_path'] = output_file_paths\n",
    "\n",
    "    return df\n",
    "\n",
    "df = convert_dtype_and_add_to_df(df)"
   ]
  },
  {
   "cell_type": "code",
   "execution_count": null,
   "id": "3ee3f876-c769-4f6d-bd5c-e03161c4aeda",
   "metadata": {
    "tags": []
   },
   "outputs": [],
   "source": [
    "def generate_masks_zero_shot(df, sam, out_dir, band_order=[3,2,1], revisit_num=1):\n",
    "    # Create output directories for HR and LR masks\n",
    "    hr_out_dir = os.path.join(out_dir, 'HR')\n",
    "    lr_out_dir = os.path.join(out_dir, 'LR')\n",
    "\n",
    "    os.makedirs(hr_out_dir, exist_ok=True)\n",
    "    os.makedirs(lr_out_dir, exist_ok=True)\n",
    "\n",
    "    # Add new columns for the mask paths\n",
    "    df['HR_mask_path'] = None\n",
    "    df['LR_mask_path'] = None\n",
    "\n",
    "    for idx, row in df.iterrows():\n",
    "        # Get image paths\n",
    "        hr_image_path = row['HR_path']\n",
    "        lr_image_path = row['LR_output_path']\n",
    "        \n",
    "        # Generate unique IDs for masks, based on image ID\n",
    "        hr_image_id = os.path.splitext(os.path.basename(hr_image_path))[0]\n",
    "        lr_image_id = os.path.splitext(os.path.basename(lr_image_path))[0]\n",
    "        hr_mask_path = os.path.join(hr_out_dir, f\"{hr_image_id}_mask.tif\")\n",
    "        lr_mask_path = os.path.join(lr_out_dir, f\"{lr_image_id}_mask.tif\")\n",
    "        \n",
    "        # Generate masks\n",
    "        sam.generate(hr_image_path, hr_mask_path, batch=True, foreground=True, \n",
    "                     erosion_kernel=(3, 3), mask_multiplier=255, unique=True)\n",
    "        sam.generate(lr_image_path, lr_mask_path, batch=True, foreground=True, \n",
    "                     erosion_kernel=(3, 3), mask_multiplier=255, unique=True)\n",
    "        \n",
    "        # Save mask paths to the DataFrame\n",
    "        df.loc[idx, 'HR_mask_path'] = hr_mask_path\n",
    "        df.loc[idx, 'LR_mask_path'] = lr_mask_path\n",
    "        df.loc[idx, 'LR_image_path'] = lr_image_path\n",
    "\n",
    "    # Save the updated DataFrame\n",
    "    df.to_csv(f'{out_dir}/sample_dataframe_with_zeroshot_masks.csv', index=False)\n",
    "    return df\n",
    "\n",
    "generate_masks_zero_shot(df, sam, out_dir=\"sample_3\")"
   ]
  },
  {
   "cell_type": "code",
   "execution_count": null,
   "id": "0a257082-96f8-4f07-9ff9-664bd6b9b0a2",
   "metadata": {
    "tags": []
   },
   "outputs": [],
   "source": [
    "out_df = pd.read_csv(\"sampled_dataframe_with_zeroshot_masks.csv\")"
   ]
  },
  {
   "cell_type": "code",
   "execution_count": null,
   "id": "1779d6e9-d446-4fcc-aee5-146669d79821",
   "metadata": {
    "tags": []
   },
   "outputs": [],
   "source": [
    "def generate_plots(df, ind):    \n",
    "    # loop over each row in the dataframe\n",
    "    row = df.iloc[ind]\n",
    "    # extract image and mask paths\n",
    "    hr_image_path = row['HR_path']\n",
    "    hr_mask_path = row['HR_mask_path']\n",
    "\n",
    "    lr_image_path = row['LR_output_path']\n",
    "    lr_mask_path = row['LR_mask_path']\n",
    "\n",
    "    # create the image comparison for HR\n",
    "    hr_comparison = leafmap.image_comparison(\n",
    "        hr_image_path,\n",
    "        hr_mask_path,\n",
    "        label1=\"HR Satellite Image\",\n",
    "        label2=\"HR Image Segmentation\",\n",
    "        show_labels=True\n",
    "    )\n",
    "\n",
    "    # create the image comparison for LR\n",
    "    # lr_comparison = leafmap.image_comparison(\n",
    "    #     lr_image_path,\n",
    "    #     lr_mask_path,\n",
    "    #     label1=\"LR Satellite Image\",\n",
    "    #     label2=\"LR Image Segmentation\",\n",
    "    #     show_labels=True,\n",
    "    #      width= 100\n",
    "    # )__\n",
    "    print(\"IPCC Class: \", row['IPCC Class'])\n",
    "    print(\"LCCS Class: \", row['LCCS class'])\n",
    "    print(\"SMOD Class: \", row['SMOD Class'])\n",
    "    print(\"Date: \", row['lowres_date'])\n",
    "    print(\"lon, lat: \", row['lon'], row['lat'])\n",
    "    return row"
   ]
  },
  {
   "cell_type": "code",
   "execution_count": null,
   "id": "ee21cb83-5739-4b47-af20-0454d71179f5",
   "metadata": {
    "tags": []
   },
   "outputs": [],
   "source": [
    "result = generate_plots(out_df, 10)"
   ]
  },
  {
   "cell_type": "code",
   "execution_count": null,
   "id": "d9e2ded3-35cf-4028-9868-01927ea72e09",
   "metadata": {
    "tags": []
   },
   "outputs": [],
   "source": [
    "import rasterio\n",
    "import numpy as np\n",
    "from skimage import exposure\n",
    "import skimage\n",
    "png_path = result['HR_path']\n",
    "with rasterio.open(png_path) as src:\n",
    "    png_array = src.read()  # read all bands\n",
    "    \n",
    "epsg = 4326\n",
    "origin = (-70.53959288131333, -13.022955494935278)  # roughly center of image\n",
    "resolution = 0.0001\t  # 1cm resolution \n",
    "\n",
    "height, width = png_array.shape[1:]\n",
    "transform = rasterio.transform.from_origin(origin[0], origin[1], resolution, resolution)\n",
    "\n",
    "meta = {\n",
    "    'driver': 'GTiff',\n",
    "    'dtype': png_array.dtype,  # use the dtype of your input array\n",
    "    'crs': {'init': f'epsg:{epsg}'},\n",
    "    'transform': transform,\n",
    "    'height': height,\n",
    "    'width': width,\n",
    "    'count': png_array.shape[0]-1  # number of bands, the first dimension of the shape\n",
    "}\n",
    "\n",
    "with rasterio.open(result['HR_path'].split(\".png\")[0]+\".tif\", 'w', **meta) as dest:\n",
    "    # Increase the brightness while clipping outliers\n",
    "    clipped_image = exposure.equalize_hist(png_array[0:3,:,:])\n",
    "    clipped_image = exposure.rescale_intensity(clipped_image, in_range='image', out_range=np.uint8)\n",
    "    dest.write(clipped_image)\n",
    "skimage.io.imsave(result['HR_path'].split(\".png\")[0]+\"rescaled.png\", clipped_image.transpose((1,2,0)))"
   ]
  },
  {
   "cell_type": "code",
   "execution_count": null,
   "id": "e8e01ea0-5dab-448d-88aa-dfd557fc0e1c",
   "metadata": {
    "tags": []
   },
   "outputs": [],
   "source": [
    "import skimage\n",
    "skimage.io.imshow(clipped_image[0:3,:,:].transpose((1,2,0)))"
   ]
  },
  {
   "cell_type": "code",
   "execution_count": null,
   "id": "2a97d8b9-6ad6-48af-8846-37dce9e8d07c",
   "metadata": {
    "tags": []
   },
   "outputs": [],
   "source": [
    "import leafmap.leafmap as leafmap\n",
    "m = leafmap.Map(center=[origin[1], origin[0]], zoom=11, height=\"800px\")\n",
    "m.add_basemap(\"SATELLITE\")\n",
    "m"
   ]
  },
  {
   "cell_type": "code",
   "execution_count": null,
   "id": "4c5ff5f9-334a-49a4-bbfd-f19813efa16c",
   "metadata": {
    "tags": []
   },
   "outputs": [],
   "source": [
    "import os\n",
    "os.environ['LOCALTILESERVER_CLIENT_PREFIX'] = 'proxy/{port}'\n",
    "m.layers[-1].visible = False\n",
    "m.add_raster(result['HR_path'].split(\".png\")[0]+\".tif\", center=[origin[1], origin[0]], layer_name=\"Image\")\n",
    "m"
   ]
  },
  {
   "cell_type": "code",
   "execution_count": null,
   "id": "a5aef663-a7c3-4829-837a-bf36ce9c9f8a",
   "metadata": {
    "tags": []
   },
   "outputs": [],
   "source": [
    "sam = SamGeo(\n",
    "    model_type=\"vit_h\",\n",
    "    checkpoint=checkpoint,\n",
    "    sam_kwargs=None,\n",
    "    automatic=False\n",
    ")\n",
    "sam.set_image(result['HR_path'].split(\".png\")[0]+\".tif\")\n",
    "m = sam.show_map()\n",
    "m"
   ]
  },
  {
   "cell_type": "code",
   "execution_count": null,
   "id": "3ead6644-ff5e-4cba-9530-5134ac5786bc",
   "metadata": {
    "tags": []
   },
   "outputs": [],
   "source": [
    "m"
   ]
  },
  {
   "cell_type": "code",
   "execution_count": null,
   "id": "2ca33f21-a1a1-4ed1-a459-57ca1c964ae2",
   "metadata": {},
   "outputs": [],
   "source": []
  }
 ],
 "metadata": {
  "kernelspec": {
   "display_name": "Python [conda env:root] *",
   "language": "python",
   "name": "conda-root-py"
  },
  "language_info": {
   "codemirror_mode": {
    "name": "ipython",
    "version": 3
   },
   "file_extension": ".py",
   "mimetype": "text/x-python",
   "name": "python",
   "nbconvert_exporter": "python",
   "pygments_lexer": "ipython3",
   "version": "3.10.9"
  }
 },
 "nbformat": 4,
 "nbformat_minor": 5
}
